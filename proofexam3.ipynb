{
 "cells": [
  {
   "cell_type": "markdown",
   "metadata": {},
   "source": [
    "หา Forword Kinematics"
   ]
  },
  {
   "cell_type": "code",
   "execution_count": 38,
   "metadata": {},
   "outputs": [
    {
     "name": "stdout",
     "output_type": "stream",
     "text": [
      "⎡cos(q₁)⋅cos(q₂ + q₃)  -sin(q₁)  -sin(q₂ + q₃)⋅cos(q₁)  (-L₂⋅sin(q₂) - L₃⋅sin(q₂ + q₃) + L₄⋅cos(q₂) + L₅⋅cos(q₂ + q₃))⋅cos(q₁)⎤\n",
      "⎢                                                                                                                             ⎥\n",
      "⎢sin(q₁)⋅cos(q₂ + q₃)  cos(q₁)   -sin(q₁)⋅sin(q₂ + q₃)  (-L₂⋅sin(q₂) - L₃⋅sin(q₂ + q₃) + L₄⋅cos(q₂) + L₅⋅cos(q₂ + q₃))⋅sin(q₁)⎥\n",
      "⎢                                                                                                                             ⎥\n",
      "⎢    sin(q₂ + q₃)         0          cos(q₂ + q₃)          L₁ + L₂⋅cos(q₂) + L₃⋅cos(q₂ + q₃) + L₄⋅sin(q₂) + L₅⋅sin(q₂ + q₃)   ⎥\n",
      "⎢                                                                                                                             ⎥\n",
      "⎣         0               0                0                                              1                                   ⎦\n"
     ]
    }
   ],
   "source": [
    "import sympy as sp\n",
    "\n",
    "# กำหนดตัวแปร\n",
    "q1, q2, q3 = sp.symbols('q1 q2 q3')\n",
    "L1, L2, L3, L4, L5 = sp.symbols('L1 L2 L3 L4 L5')\n",
    "\n",
    "# สร้างเมทริกซ์\n",
    "T_0_1 = sp.Matrix([\n",
    "    [sp.cos(q1), -sp.sin(q1), 0, 0],\n",
    "    [sp.sin(q1), sp.cos(q1),  0, 0],\n",
    "    [0, 0,  1, L1],\n",
    "    [0, 0,  0, 1]\n",
    "])\n",
    "T_1_2 = sp.Matrix([\n",
    "    [1, 0, 0, 0],\n",
    "    [0, sp.cos(sp.pi/2), -sp.sin(sp.pi/2), 0],\n",
    "    [0, sp.sin(sp.pi/2), sp.cos(sp.pi/2), 0],\n",
    "    [0, 0, 0, 1]\n",
    "])\n",
    "T_2Rz = sp.Matrix([\n",
    "    [sp.cos(q2), -sp.sin(q2), 0, 0],\n",
    "    [sp.sin(q2), sp.cos(q2), 0, 0],\n",
    "    [0, 0, 1, 0],\n",
    "    [0, 0, 0, 1]\n",
    "])\n",
    "T_2_3 = sp.Matrix([\n",
    "     [1, 0, 0, L4],\n",
    "    [0, -sp.cos(sp.pi/2), sp.sin(sp.pi/2), 0],\n",
    "    [0, -sp.sin(sp.pi/2), -sp.cos(sp.pi/2),0],\n",
    "    [0, 0, 0, 1]\n",
    "])\n",
    "T_3L2 = sp.Matrix([\n",
    "    [1, 0, 0, 0],\n",
    "    [0, 1, 0, 0],\n",
    "    [0, 0, 1,L2],\n",
    "    [0, 0, 0, 1]\n",
    "])\n",
    "T_3_4 = sp.Matrix([\n",
    "    [1, 0, 0, 0],\n",
    "    [0, sp.cos(sp.pi/2), -sp.sin(sp.pi/2), 0],\n",
    "    [0, sp.sin(sp.pi/2), sp.cos(sp.pi/2), 0],\n",
    "    [0, 0, 0, 1]\n",
    "])\n",
    "T_4Rz = sp.Matrix([\n",
    "    [sp.cos(q3), -sp.sin(q3), 0, 0],\n",
    "    [sp.sin(q3), sp.cos(q3), 0, 0],\n",
    "    [0, 0, 1, 0],\n",
    "    [0, 0, 0, 1]\n",
    "])\n",
    "T_4_5 = sp.Matrix([\n",
    "     [1, 0, 0, L5],\n",
    "    [0, -sp.cos(sp.pi/2), sp.sin(sp.pi/2), 0],\n",
    "    [0, -sp.sin(sp.pi/2), -sp.cos(sp.pi/2), 0],\n",
    "    [0, 0, 0, 1]\n",
    "])\n",
    "T_5L3 = sp.Matrix([\n",
    "    [1, 0, 0, 0],\n",
    "    [0, 1, 0, 0],\n",
    "    [0, 0, 1,L3],\n",
    "    [0, 0, 0, 1]\n",
    "])\n",
    "\n",
    "# คูณเมทริกซ์ทั้งหมดเข้าด้วยกัน\n",
    "T_total = T_0_1 * T_1_2 * T_2Rz * T_2_3 * T_3L2 * T_3_4 * T_4Rz * T_4_5 * T_5L3\n",
    "\n",
    "# ลดรูปเมทริกซ์ก่อนแสดงผล\n",
    "T_total_simplified = sp.simplify(T_total)\n",
    "\n",
    "# แสดงผลลัพธ์\n",
    "# แสดงผลลัพธ์ โดยตั้งค่าความกว้างของการแสดงผล\n",
    "sp.init_printing(num_columns=300)\n",
    "sp.pprint(T_total_simplified, use_unicode=True)\n"
   ]
  },
  {
   "cell_type": "markdown",
   "metadata": {},
   "source": [
    "แทนค่า testcase ใน forward kinemmatics"
   ]
  },
  {
   "cell_type": "code",
   "execution_count": 55,
   "metadata": {},
   "outputs": [
    {
     "name": "stdout",
     "output_type": "stream",
     "text": [
      "⎡     -√3          ⎤\n",
      "⎢1/2  ────  0  3/2 ⎥\n",
      "⎢      2           ⎥\n",
      "⎢                  ⎥\n",
      "⎢√3            3⋅√3⎥\n",
      "⎢──   1/2   0  ────⎥\n",
      "⎢2              2  ⎥\n",
      "⎢                  ⎥\n",
      "⎢ 0    0    1   6  ⎥\n",
      "⎢                  ⎥\n",
      "⎣ 0    0    0   1  ⎦\n"
     ]
    }
   ],
   "source": [
    "import sympy as sp\n",
    "from random import randint as rd\n",
    "\n",
    "L1 = 3\n",
    "L2 = 2\n",
    "L3 = 1\n",
    "L4 = 2\n",
    "L5 = 1\n",
    "\n",
    "# for i in range(10):\n",
    "q1 = sp.pi/3\n",
    "q2 = 0\n",
    "q3 = 0\n",
    "\n",
    "# สร้างเมทริกซ์\n",
    "T_0_1 = sp.Matrix([\n",
    "    [sp.cos(q1), -sp.sin(q1), 0, 0],\n",
    "    [sp.sin(q1), sp.cos(q1),  0, 0],\n",
    "    [0, 0,  1, L1],\n",
    "    [0, 0,  0, 1]\n",
    "])\n",
    "T_1_2 = sp.Matrix([\n",
    "    [1, 0, 0, 0],\n",
    "    [0, sp.cos(sp.pi/2), -sp.sin(sp.pi/2), 0],\n",
    "    [0, sp.sin(sp.pi/2), sp.cos(sp.pi/2), 0],\n",
    "    [0, 0, 0, 1]\n",
    "])\n",
    "T_2Rz = sp.Matrix([\n",
    "    [sp.cos(q2), -sp.sin(q2), 0, 0],\n",
    "    [sp.sin(q2), sp.cos(q2), 0, 0],\n",
    "    [0, 0, 1, 0],\n",
    "    [0, 0, 0, 1]\n",
    "])\n",
    "T_2_3 = sp.Matrix([\n",
    "    [1, 0, 0, L4],\n",
    "    [0, -sp.cos(sp.pi/2), sp.sin(sp.pi/2), 0],\n",
    "    [0, -sp.sin(sp.pi/2), -sp.cos(sp.pi/2),0],\n",
    "    [0, 0, 0, 1]\n",
    "])\n",
    "T_3L2 = sp.Matrix([\n",
    "    [1, 0, 0, 0],\n",
    "    [0, 1, 0, 0],\n",
    "    [0, 0, 1,L2],\n",
    "    [0, 0, 0, 1]\n",
    "])\n",
    "T_3_4 = sp.Matrix([\n",
    "    [1, 0, 0, 0],\n",
    "    [0, sp.cos(sp.pi/2), -sp.sin(sp.pi/2), 0],\n",
    "    [0, sp.sin(sp.pi/2), sp.cos(sp.pi/2), 0],\n",
    "    [0, 0, 0, 1]\n",
    "])\n",
    "T_4Rz = sp.Matrix([\n",
    "    [sp.cos(q3), -sp.sin(q3), 0, 0],\n",
    "    [sp.sin(q3), sp.cos(q3), 0, 0],\n",
    "    [0, 0, 1, 0],\n",
    "    [0, 0, 0, 1]\n",
    "])\n",
    "T_4_5 = sp.Matrix([\n",
    "    [1, 0, 0, L5],\n",
    "    [0, -sp.cos(sp.pi/2), sp.sin(sp.pi/2), 0],\n",
    "    [0, -sp.sin(sp.pi/2), -sp.cos(sp.pi/2), 0],\n",
    "    [0, 0, 0, 1]\n",
    "])\n",
    "T_5L3 = sp.Matrix([\n",
    "    [1, 0, 0, 0],\n",
    "    [0, 1, 0, 0],\n",
    "    [0, 0, 1,L3],\n",
    "    [0, 0, 0, 1]\n",
    "])\n",
    "\n",
    "# คูณเมทริกซ์ทั้งหมดเข้าด้วยกัน\n",
    "T_total = T_0_1 * T_1_2 * T_2Rz * T_2_3 * T_3L2 * T_3_4 * T_4Rz * T_4_5 * T_5L3\n",
    "\n",
    "# ลดรูปเมทริกซ์ก่อนแสดงผล\n",
    "T_total_simplified = sp.simplify(T_total)\n",
    "\n",
    "# แสดงผลลัพธ์\n",
    "# แสดงผลลัพธ์ โดยตั้งค่าความกว้างของการแสดงผล\n",
    "sp.init_printing(num_columns=300)\n",
    "sp.pprint(T_total_simplified, use_unicode=True)\n",
    "\n",
    "a = [T_total_simplified]\n",
    "# print(type(T_total_simplified))\n"
   ]
  },
  {
   "cell_type": "markdown",
   "metadata": {},
   "source": [
    "เทสค่า q1"
   ]
  },
  {
   "cell_type": "code",
   "execution_count": 57,
   "metadata": {},
   "outputs": [
    {
     "name": "stdout",
     "output_type": "stream",
     "text": [
      "0.962794448114607\n",
      "55.1640584155943\n"
     ]
    }
   ],
   "source": [
    "import math\n",
    "\n",
    "# ทดสอบค่า q1\n",
    "\n",
    "x = 3/2\n",
    "y = 3*(3**(1/2))/2\n",
    "z = 6\n",
    "\n",
    "c1 = (-2*(z**2))/(-2*z*((x**2+z**2)**1/2))\n",
    "s1 = ((1-c1**2)**1/2)\n",
    "\n",
    "Q1 = sp.atan2(s1,c1)\n",
    "\n",
    "print(Q1)\n",
    "print(Q1/math.pi*180)\n"
   ]
  },
  {
   "cell_type": "code",
   "execution_count": null,
   "metadata": {},
   "outputs": [],
   "source": []
  }
 ],
 "metadata": {
  "kernelspec": {
   "display_name": "Python 3",
   "language": "python",
   "name": "python3"
  },
  "language_info": {
   "codemirror_mode": {
    "name": "ipython",
    "version": 3
   },
   "file_extension": ".py",
   "mimetype": "text/x-python",
   "name": "python",
   "nbconvert_exporter": "python",
   "pygments_lexer": "ipython3",
   "version": "3.10.6"
  }
 },
 "nbformat": 4,
 "nbformat_minor": 2
}
